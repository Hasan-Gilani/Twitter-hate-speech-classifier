{
 "cells": [
  {
   "cell_type": "code",
   "execution_count": null,
   "metadata": {
    "collapsed": true
   },
   "outputs": [],
   "source": [
    "import numpy as np\n",
    "import pandas as pd\n",
    "from sklearn.linear_model import LogisticRegression\n",
    "from sklearn.grid_search import GridSearchCV\n",
    "from sklearn.cross_validation import KFold\n",
    "import matplotlib.pyplot as plt\n",
    "from string import punctuation\n",
    "import os\n",
    "from collections import Counter\n",
    "from nltk.corpus import stopwords\n",
    "from keras.preprocessing.text import Tokenizer\n",
    "from keras.models import Sequential\n",
    "from keras.layers import Dense\n",
    "from keras.layers import Dropout\n",
    "from pandas import DataFrame"
   ]
  },
  {
   "cell_type": "code",
   "execution_count": null,
   "metadata": {
    "collapsed": true
   },
   "outputs": [],
   "source": [
    "cwd = os.getcwd()\n",
    "datadir = '/'.join(cwd.split('/')) + '/data/'\n",
    "data = pd.read_csv(datadir + 'labeled_data.csv', sep=',',index_col=0)\n",
    "data['class'].describe().transpose()"
   ]
  },
  {
   "cell_type": "code",
   "execution_count": null,
   "metadata": {
    "collapsed": true
   },
   "outputs": [],
   "source": [
    "from nltk.stem import PorterStemmer\n",
    "from nltk.tokenize import sent_tokenize, word_tokenize\n",
    "import nltk\n",
    "def clean_twitter(data):\n",
    "    tweets=data['tweet']\n",
    "    table = str.maketrans('', '', punctuation)\n",
    "    stop_words = set(stopwords.words('english'))\n",
    "    lemma = nltk.wordnet.WordNetLemmatizer()\n",
    "    cleandata = []\n",
    "\n",
    "    for tweet in tweets:\n",
    "        tokens = tweet.split()\n",
    "        cleanstring = []\n",
    "        for o in tokens:\n",
    "            # Clearn words that start as @\n",
    "            if o.startswith('@'): continue\n",
    "            # remove punctuation from each token\n",
    "            o = o.translate(table)  \n",
    "            # filter out short tokens \n",
    "            if len(o) < 2: continue\n",
    "            # remove remaining tokens that are not alphabetic\n",
    "            if not o.isalpha(): continue\n",
    "            # filter out stop words\n",
    "            if o in stop_words: continue\n",
    "            o = lemma.lemmatize(o)\n",
    "            # change to lowercase\n",
    "            o = o.lower()\n",
    "            cleanstring.append(o)\n",
    "        cleanstring=' '.join(cleanstring)\n",
    "        cleandata.append(cleanstring)\n",
    "    return cleandata"
   ]
  },
  {
   "cell_type": "code",
   "execution_count": 8,
   "metadata": {},
   "outputs": [
    {
     "data": {
      "text/plain": [
       "['things',\n",
       " '80',\n",
       " 'use',\n",
       " 'working',\n",
       " 'reasons',\n",
       " 'language',\n",
       " '$2',\n",
       " 'soul',\n",
       " 'it',\n",
       " 'carjack.me',\n",
       " 'Uber',\n",
       " 'you',\n",
       " 'stole',\n",
       " 'if',\n",
       " 'better',\n",
       " '(I',\n",
       " 'HN:',\n",
       " 'immediately',\n",
       " '--',\n",
       " 'who',\n",
       " 'at',\n",
       " 'still',\n",
       " 'do',\n",
       " 'people',\n",
       " 'pretzels,',\n",
       " 'PretzelBros,',\n",
       " 'think',\n",
       " 'GTA',\n",
       " 'million',\n",
       " 'I',\n",
       " 'though)',\n",
       " 'Top',\n",
       " 'why',\n",
       " 'for',\n",
       " 'raises',\n",
       " 'python.',\n",
       " 'whatever',\n",
       " 'than',\n",
       " 'airbnb',\n",
       " 'Go',\n",
       " 'like',\n",
       " 'meets',\n",
       " 'is',\n",
       " 'love',\n",
       " 'should',\n",
       " 'Why',\n",
       " 'Show',\n",
       " 'use.',\n",
       " 'my',\n",
       " 'apple',\n",
       " '10']"
      ]
     },
     "execution_count": 8,
     "metadata": {},
     "output_type": "execute_result"
    }
   ],
   "source": [
    "from collections import Counter\n",
    "\n",
    "headlines = [\n",
    "    \"PretzelBros, airbnb for people who like pretzels, raises $2 million\",\n",
    "    \"Top 10 reasons why Go is better than whatever language you use.\",\n",
    "    \"Why working at apple stole my soul (I still love it though)\",\n",
    "    \"80 things I think you should do immediately if you use python.\",\n",
    "    \"Show HN: carjack.me -- Uber meets GTA\"\n",
    "]\n",
    "\n",
    "# Find all the unique words in the headlines.\n",
    "unique_words = list(set(\" \".join(headlines).split(\" \")))\n",
    "unique_words"
   ]
  },
  {
   "cell_type": "code",
   "execution_count": 11,
   "metadata": {},
   "outputs": [
    {
     "data": {
      "text/plain": [
       "Counter({' ': 6,\n",
       "         '-': 2,\n",
       "         '.': 1,\n",
       "         ':': 1,\n",
       "         'A': 1,\n",
       "         'G': 1,\n",
       "         'H': 1,\n",
       "         'N': 1,\n",
       "         'S': 1,\n",
       "         'T': 1,\n",
       "         'U': 1,\n",
       "         'a': 2,\n",
       "         'b': 1,\n",
       "         'c': 2,\n",
       "         'e': 4,\n",
       "         'h': 1,\n",
       "         'j': 1,\n",
       "         'k': 1,\n",
       "         'm': 2,\n",
       "         'o': 1,\n",
       "         'r': 2,\n",
       "         's': 1,\n",
       "         't': 1,\n",
       "         'w': 1})"
      ]
     },
     "execution_count": 11,
     "metadata": {},
     "output_type": "execute_result"
    }
   ],
   "source": [
    "matrix = []\n",
    "for headline in headlines:\n",
    "    # Count each word in the headline, and make a dictionary.\n",
    "    counter = Counter(headline)\n",
    "counter"
   ]
  },
  {
   "cell_type": "code",
   "execution_count": 7,
   "metadata": {},
   "outputs": [],
   "source": [
    "?Counter.get"
   ]
  },
  {
   "cell_type": "code",
   "execution_count": null,
   "metadata": {
    "collapsed": true
   },
   "outputs": [],
   "source": []
  }
 ],
 "metadata": {
  "kernelspec": {
   "display_name": "Python 3",
   "language": "python",
   "name": "python3"
  },
  "language_info": {
   "codemirror_mode": {
    "name": "ipython",
    "version": 3
   },
   "file_extension": ".py",
   "mimetype": "text/x-python",
   "name": "python",
   "nbconvert_exporter": "python",
   "pygments_lexer": "ipython3",
   "version": "3.5.3"
  }
 },
 "nbformat": 4,
 "nbformat_minor": 2
}
